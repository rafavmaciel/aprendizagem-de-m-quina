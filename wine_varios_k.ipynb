{
 "cells": [
  {
   "cell_type": "code",
   "execution_count": 6,
   "source": [
    "from sklearn.datasets import load_wine\r\n",
    "from sklearn.model_selection import train_test_split\r\n",
    "from sklearn.neighbors import KNeighborsClassifier\r\n",
    "from sklearn import metrics"
   ],
   "outputs": [],
   "metadata": {}
  },
  {
   "cell_type": "code",
   "execution_count": 7,
   "source": [
    "X,y = load_wine(return_X_y = True)"
   ],
   "outputs": [],
   "metadata": {}
  },
  {
   "cell_type": "code",
   "execution_count": 11,
   "source": [
    "scores_list= []\r\n",
    "X_train,X_test,y_train,y_test = train_test_split(X,y, test_size = 0.5, random_state = 1,stratify=y)\r\n",
    "knn = KNeighborsClassifier(n_neighbors=7)\r\n",
    "knn.fit(X_train, y_train)\r\n",
    "y_pred = knn.predict(X_test)\r\n",
    "score = metrics.accuracy_score(y_test,y_pred)\r\n",
    "scores_list.append(metrics.accuracy_score(y_test,y_pred))"
   ],
   "outputs": [],
   "metadata": {}
  },
  {
   "cell_type": "code",
   "execution_count": 12,
   "source": [
    "\r\n",
    "X_train,X_test,y_train,y_test = train_test_split(X,y, test_size = 0.5, random_state = 1,stratify=y)\r\n",
    "knn = KNeighborsClassifier(n_neighbors=7,weights='distance')\r\n",
    "knn.fit(X_train, y_train)\r\n",
    "y_pred = knn.predict(X_test)\r\n",
    "score = metrics.accuracy_score(y_test,y_pred)\r\n",
    "scores_list.append(metrics.accuracy_score(y_test,y_pred))"
   ],
   "outputs": [],
   "metadata": {}
  },
  {
   "cell_type": "code",
   "execution_count": 13,
   "source": [
    "scores_list"
   ],
   "outputs": [
    {
     "output_type": "execute_result",
     "data": {
      "text/plain": [
       "[0.6629213483146067, 0.7303370786516854]"
      ]
     },
     "metadata": {},
     "execution_count": 13
    }
   ],
   "metadata": {}
  },
  {
   "cell_type": "code",
   "execution_count": null,
   "source": [],
   "outputs": [],
   "metadata": {}
  },
  {
   "cell_type": "code",
   "execution_count": null,
   "source": [],
   "outputs": [],
   "metadata": {}
  },
  {
   "cell_type": "code",
   "execution_count": 23,
   "source": [],
   "outputs": [],
   "metadata": {}
  },
  {
   "cell_type": "code",
   "execution_count": null,
   "source": [],
   "outputs": [],
   "metadata": {}
  },
  {
   "cell_type": "code",
   "execution_count": null,
   "source": [],
   "outputs": [],
   "metadata": {}
  },
  {
   "cell_type": "code",
   "execution_count": null,
   "source": [],
   "outputs": [],
   "metadata": {}
  },
  {
   "cell_type": "code",
   "execution_count": null,
   "source": [],
   "outputs": [],
   "metadata": {}
  }
 ],
 "metadata": {
  "kernelspec": {
   "name": "python3",
   "display_name": "Python 3.8.5 64-bit ('machine learning': conda)"
  },
  "language_info": {
   "codemirror_mode": {
    "name": "ipython",
    "version": 3
   },
   "file_extension": ".py",
   "mimetype": "text/x-python",
   "name": "python",
   "nbconvert_exporter": "python",
   "pygments_lexer": "ipython3",
   "version": "3.8.5"
  },
  "interpreter": {
   "hash": "4ab7bcb128b72c5de8af2485b73fce4032cc774c0cc2d1ca37f2cb0c62f69efa"
  }
 },
 "nbformat": 4,
 "nbformat_minor": 4
}