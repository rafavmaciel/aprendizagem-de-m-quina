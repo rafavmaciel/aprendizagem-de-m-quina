{
 "cells": [
  {
   "cell_type": "code",
   "execution_count": 7,
   "metadata": {},
   "outputs": [
    {
     "name": "stdout",
     "output_type": "stream",
     "text": [
      "[[4.7 3.2 1.3 0.2]\n",
      " [6.6 2.9 4.6 1.3]\n",
      " [7.3 2.9 6.3 1.8]]\n"
     ]
    },
    {
     "data": {
      "image/png": "[encoded data removed]",
      "text/plain": [
       "<Figure size 432x288 with 1 Axes>"
      ]
     },
     "metadata": {
      "needs_background": "light"
     },
     "output_type": "display_data"
    }
   ],
   "source": [
    "import pandas as pd\n",
    "import numpy as np\n",
    "import matplotlib.pyplot as plt\n",
    "\n",
    "\n",
    "data= pd.read_csv(\"iris.data\")\n",
    "y = data.iloc[:,4:5]\n",
    "y = y.to_numpy()\n",
    "data =  data.iloc[:,:4]\n",
    "\n",
    "data_lista = data.to_numpy()\n",
    "indexes = list(data.index)\n",
    "cond = 10\n",
    "distancia_mais_proximo = []\n",
    "lista_medias = []\n",
    "\n",
    "def pegar_centroides(num): #pega tres centroides aleatorios \n",
    "    index = [2,58,107]\n",
    "    #index = np.random.choice(indexes,num)\n",
    "    lista_centroides = (data.iloc[index].to_numpy())\n",
    "    return lista_centroides\n",
    "#  \n",
    "\n",
    "\n",
    "def calcular_distancia(lista_centroides):\n",
    "    lista_distancia = []\n",
    "    for centroide in lista_centroides:\n",
    "        lista_distancias_centroide =[]\n",
    "        for celula in data_lista:\n",
    "            dist = 0\n",
    "            for i in range(len(celula)):\n",
    "                dist =  dist + (celula[i]-centroide[i])**2\n",
    "                if i == len(celula)-1:\n",
    "                    dist = dist**(0.5)\n",
    "            lista_distancias_centroide.append(dist)\n",
    "        lista_distancia.append(lista_distancias_centroide)\n",
    "    return lista_distancia\n",
    "       \n",
    "        \n",
    "def classificar_grupos(lista_distancia): #ver a distancia minima e classifica pelo indice da lista\n",
    "    lista_classificacao_centroides = []\n",
    "    medias =[]\n",
    "    for i in range(len(data_lista)):\n",
    "        cents = [lista_distancia[0][i],lista_distancia[1][i],lista_distancia[2][i]]\n",
    "        min_dist = min(cents)\n",
    "        medias.append(min_dist)\n",
    "        distancia_mais_proximo.append(min_dist)\n",
    "        classe_centroide = cents.index(min_dist)\n",
    "        lista_classificacao_centroides.append(classe_centroide)\n",
    "    lista_medias.append(np.mean(medias))\n",
    "    return lista_classificacao_centroides\n",
    "        \n",
    "\n",
    "def pegar_novos_centroides_3(lista_classificacao_centroides):\n",
    "    count0 = 0\n",
    "    count1  = 0\n",
    "    count2 = 0\n",
    "    novos_centroides = [[0,0,0,0] for item in range(3)]\n",
    "    for i in range(len(lista_classificacao_centroides)): #somando centroides\n",
    "        ind_cent = 0\n",
    "        if lista_classificacao_centroides[i] == 0:\n",
    "            count0 = count0 + 1\n",
    "            for k in range(len(novos_centroides[ind_cent])):\n",
    "                novos_centroides[0][k] = novos_centroides[0][k] + data_lista[i][k]\n",
    "        if lista_classificacao_centroides[i] == 1:\n",
    "            count1 = count1 + 1\n",
    "            for k in range(len(novos_centroides[ind_cent])):\n",
    "                novos_centroides[1][k] = novos_centroides[1][k] + data_lista[i][k]\n",
    "        if lista_classificacao_centroides[i] == 2:\n",
    "            count2 = count2 + 1\n",
    "            for k in range(len(novos_centroides[ind_cent])):\n",
    "                novos_centroides[2][k] = novos_centroides[2][k] + data_lista[i][k]\n",
    "       # print(\"novos centrides \" + str(novos_centroides)+ \"\\n\")\n",
    "        #print (\"contadores \" + str(count0)+\"  \" + str(count1)+\"  \" + str(count2)+\" \\n \")\n",
    "               \n",
    "    for i in range(len(novos_centroides)): #dividindo centreides pelo numero de itens na categoria  \n",
    "        for k in range(len(novos_centroides[i])):\n",
    "            if i == 0:\n",
    "                if count0 > 0 :\n",
    "                    novos_centroides[i][k] = novos_centroides[i][k]/count0\n",
    "                else:\n",
    "                    novos_centroides[i][k] = 0\n",
    "            if i == 1:\n",
    "                \n",
    "                if count1 > 0 :\n",
    "                    novos_centroides[i][k] = novos_centroides[i][k]/count1\n",
    "                else:\n",
    "                    novos_centroides[i][k] = 0\n",
    "            if i == 2:\n",
    "                if count2 > 0 :\n",
    "                    novos_centroides[i][k] = novos_centroides[i][k]/count2\n",
    "                else:\n",
    "                    novos_centroides[i][k] = 0\n",
    "        #print(\"novos centrides \" + str(novos_centroides)+ \"\\n\")\n",
    "    \n",
    "    return novos_centroides\n",
    "\n",
    "\n",
    "lista_centroides = pegar_centroides(3)\n",
    "lista_distancia = calcular_distancia(lista_centroides)\n",
    "lista_classificacao_centroides = classificar_grupos(lista_distancia)\n",
    "novos_centroides = pegar_novos_centroides_3(lista_classificacao_centroides)\n",
    "\n",
    "def k_means():\n",
    "    lista_grupos_antiga = []\n",
    "    lista_grupos_nova = []\n",
    "    lista_centroides =[]\n",
    "    lista_centroides = pegar_centroides(3)\n",
    "    cont  = 0\n",
    "    print(lista_centroides)\n",
    "    \n",
    "    while (cond > 0):\n",
    "        cont = cont + 1\n",
    "        \n",
    "        lista_distancia = calcular_distancia(lista_centroides)\n",
    "        lista_classificacao_centroides = classificar_grupos(lista_distancia)\n",
    "        novos_centroides = pegar_novos_centroides_3(lista_classificacao_centroides)\n",
    "        lista_grupos_nova = lista_classificacao_centroides\n",
    "        if lista_grupos_nova != lista_grupos_antiga:\n",
    "            lista_grupos_antiga = lista_grupos_nova\n",
    "        else:\n",
    "            return lista_classificacao_centroides\n",
    "        lista_centroides = novos_centroides\n",
    "        \n",
    "lista_classificacao_centroides = k_means()\n",
    "plt.hist(lista_classificacao_centroides, bins='auto') \n",
    "\n",
    "desvio_padrao = np.std(distancia_mais_proximo)\n",
    "histogarma =[[],[],[]]\n",
    "for i in range(len(lista_classificacao_centroides)):\n",
    "    if lista_classificacao_centroides[i] == 0:\n",
    "        if y[i] == 'Iris-setosa':\n",
    "            histogarma[0].append(0)\n",
    "        if y[i] == 'Iris-versicolor':\n",
    "            histogarma[0].append(1)\n",
    "        if y[i] == 'Iris-virginica':\n",
    "            histogarma[0].append(2)\n",
    "    if lista_classificacao_centroides[i] == 1:\n",
    "        if y[i] == 'Iris-setosa':\n",
    "            histogarma[1].append(0)\n",
    "        if y[i] == 'Iris-versicolor':\n",
    "            histogarma[1].append(1)\n",
    "        if y[i] == 'Iris-virginica':\n",
    "            histogarma[1].append(2)\n",
    "    if lista_classificacao_centroides[i] == 2:\n",
    "        if y[i] == 'Iris-setosa':\n",
    "            histogarma[2].append(0)\n",
    "        if y[i] == 'Iris-versicolor':\n",
    "            histogarma[2].append(1)\n",
    "        if y[i] == 'Iris-virginica':\n",
    "            histogarma[2].append(2)"
   ]
  },
  {
   "cell_type": "code",
   "execution_count": 16,
   "metadata": {},
   "outputs": [
    {
     "data": {
      "text/plain": [
       "Text(0.5, 0, 'classes')"
      ]
     },
     "execution_count": 16,
     "metadata": {},
     "output_type": "execute_result"
    },
    {
     "data": {
      "image/png": "[encoded data removed]",
      "text/plain": [
       "<Figure size 432x288 with 1 Axes>"
      ]
     },
     "metadata": {
      "needs_background": "light"
     },
     "output_type": "display_data"
    }
   ],
   "source": [
    "plt.hist(histogarma[0], bins=[0,1, 2, 3, 4])   \n",
    "plt.title(\"grupo 0\")\n",
    "plt.xlabel('classes')"
   ]
  },
  {
   "cell_type": "code",
   "execution_count": 17,
   "metadata": {},
   "outputs": [
    {
     "data": {
      "text/plain": [
       "Text(0.5, 0, 'classes')"
      ]
     },
     "execution_count": 17,
     "metadata": {},
     "output_type": "execute_result"
    },
    {
     "data": {
      "image/png": "[encoded data removed]",
      "text/plain": [
       "<Figure size 432x288 with 1 Axes>"
      ]
     },
     "metadata": {
      "needs_background": "light"
     },
     "output_type": "display_data"
    }
   ],
   "source": [
    "plt.hist(histogarma[1], bins='auto')       \n",
    "plt.title(\"grupo 1\")\n",
    "plt.xlabel('classes')"
   ]
  },
  {
   "cell_type": "code",
   "execution_count": 18,
   "metadata": {},
   "outputs": [
    {
     "data": {
      "text/plain": [
       "Text(0.5, 0, 'classes')"
      ]
     },
     "execution_count": 18,
     "metadata": {},
     "output_type": "execute_result"
    },
    {
     "data": {
      "image/png": "[encoded data removed]",
      "text/plain": [
       "<Figure size 432x288 with 1 Axes>"
      ]
     },
     "metadata": {
      "needs_background": "light"
     },
     "output_type": "display_data"
    }
   ],
   "source": [
    "plt.hist(histogarma[2], bins='auto')  \n",
    "plt.title(\"grupo 2\")\n",
    "plt.xlabel('classes')\n"
   ]
  },
  {
   "cell_type": "code",
   "execution_count": null,
   "metadata": {},
   "outputs": [],
   "source": []
  }
 ],
 "metadata": {
  "kernelspec": {
   "display_name": "Python 3",
   "language": "python",
   "name": "python3"
  },
  "language_info": {
   "codemirror_mode": {
    "name": "ipython",
    "version": 3
   },
   "file_extension": ".py",
   "mimetype": "text/x-python",
   "name": "python",
   "nbconvert_exporter": "python",
   "pygments_lexer": "ipython3",
   "version": "3.8.5"
  }
 },
 "nbformat": 4,
 "nbformat_minor": 4
}
